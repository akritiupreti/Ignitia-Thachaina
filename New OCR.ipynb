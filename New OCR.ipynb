{
 "cells": [
  {
   "cell_type": "code",
   "execution_count": 1,
   "id": "9e905315",
   "metadata": {},
   "outputs": [],
   "source": [
    "import cv2\n",
    "import pytesseract\n",
    "import os"
   ]
  },
  {
   "cell_type": "code",
   "execution_count": 2,
   "id": "c9f929b8",
   "metadata": {},
   "outputs": [],
   "source": [
    "pytesseract.pytesseract.tesseract_cmd = r'C:\\Users\\Lenovo\\AppData\\Local\\Programs\\Tesseract-OCR/tesseract.exe'"
   ]
  },
  {
   "cell_type": "markdown",
   "id": "3f7deb5e",
   "metadata": {},
   "source": [
    "Uppercase letters"
   ]
  },
  {
   "cell_type": "code",
   "execution_count": 3,
   "id": "81b326a5",
   "metadata": {},
   "outputs": [
    {
     "data": {
      "text/plain": [
       "-1"
      ]
     },
     "execution_count": 3,
     "metadata": {},
     "output_type": "execute_result"
    }
   ],
   "source": [
    "image = cv2.imread(\"uppercase.jpg\")\n",
    "image = cv2.resize(image, None, fx=2, fy=2, interpolation=cv2.INTER_CUBIC)\n",
    "image = cv2.cvtColor(image, cv2.COLOR_BGR2GRAY)\n",
    "cv2.imshow('image', image)\n",
    "cv2.waitKey(0)"
   ]
  },
  {
   "cell_type": "code",
   "execution_count": 7,
   "id": "1eeea58e",
   "metadata": {},
   "outputs": [
    {
     "name": "stdout",
     "output_type": "stream",
     "text": [
      "ABC ODEs:\n",
      "GuIdKL\n",
      "\n",
      "MNO P & &\n",
      "ST UV W X\n",
      "\n",
      "Y Z2\n",
      "\n"
     ]
    }
   ],
   "source": [
    "config = '--oem 3 --psm %d' % 4\n",
    "string = pytesseract.image_to_string(image, config=config, lang='eng')\n",
    "print(string)"
   ]
  },
  {
   "cell_type": "code",
   "execution_count": 8,
   "id": "ac19214c",
   "metadata": {},
   "outputs": [],
   "source": [
    "uppercase = \"ABCDEFGHIJKLMNOPQRSTUVWXYZ\""
   ]
  },
  {
   "cell_type": "code",
   "execution_count": 9,
   "id": "24cc7a2b",
   "metadata": {},
   "outputs": [
    {
     "data": {
      "text/plain": [
       "[['A', '120', '1240', '192', '1343', '0'],\n",
       " ['B', '384', '1247', '442', '1361', '0'],\n",
       " ['C', '586', '1257', '650', '1367', '0'],\n",
       " ['O', '778', '1210', '833', '1425', '0'],\n",
       " ['D', '827', '1251', '907', '1421', '0'],\n",
       " ['E', '1072', '1215', '1125', '1341', '0'],\n",
       " ['s', '1155', '1210', '1281', '1425', '0'],\n",
       " [':', '1306', '1214', '1353', '1309', '0'],\n",
       " ['G', '101', '950', '185', '1068', '0'],\n",
       " ['u', '351', '966', '405', '1056', '0'],\n",
       " ['I', '557', '971', '626', '1064', '0'],\n",
       " ['d', '786', '975', '864', '1076', '0'],\n",
       " ['K', '1057', '964', '1130', '1087', '0'],\n",
       " ['L', '1283', '984', '1322', '1076', '0'],\n",
       " ['M', '90', '693', '170', '790', '0'],\n",
       " ['N', '325', '689', '389', '796', '0'],\n",
       " ['O', '543', '701', '1312', '848', '0'],\n",
       " ['P', '774', '660', '886', '852', '0'],\n",
       " ['&', '1014', '660', '1110', '852', '0'],\n",
       " ['&', '1206', '660', '1318', '852', '0'],\n",
       " ['S', '80', '448', '142', '549', '0'],\n",
       " ['T', '299', '454', '1311', '600', '0'],\n",
       " ['U', '535', '437', '689', '604', '0'],\n",
       " ['V', '688', '437', '842', '604', '0'],\n",
       " ['W', '966', '437', '1092', '604', '0'],\n",
       " ['X', '1203', '437', '1315', '604', '0'],\n",
       " ['Y', '98', '202', '170', '314', '0'],\n",
       " ['Z', '318', '212', '332', '310', '0'],\n",
       " ['2', '318', '212', '398', '310', '0'],\n",
       " []]"
      ]
     },
     "execution_count": 9,
     "metadata": {},
     "output_type": "execute_result"
    }
   ],
   "source": [
    "height, width = image.shape\n",
    "text = pytesseract.image_to_boxes(image, config = config, lang='eng').split('\\n')\n",
    "for x in range(len(text)):\n",
    "    text[x] = text[x].split()\n",
    "\n",
    "text"
   ]
  },
  {
   "cell_type": "code",
   "execution_count": 10,
   "id": "25a9afb4",
   "metadata": {
    "scrolled": true
   },
   "outputs": [
    {
     "name": "stdout",
     "output_type": "stream",
     "text": [
      "Is this A? (Press Enter if YES.\n",
      "If NO, type the correct letter and press ENTER\n",
      "If unrecognizable, type a space and press ENTER): \n",
      "\n",
      "Is this B? (Press Enter if YES.\n",
      "If NO, type the correct letter and press ENTER\n",
      "If unrecognizable, type a space and press ENTER): \n",
      "\n",
      "Is this C? (Press Enter if YES.\n",
      "If NO, type the correct letter and press ENTER\n",
      "If unrecognizable, type a space and press ENTER): \n",
      "\n",
      "Is this O? (Press Enter if YES.\n",
      "If NO, type the correct letter and press ENTER\n",
      "If unrecognizable, type a space and press ENTER): \n",
      " \n",
      "Is this D? (Press Enter if YES.\n",
      "If NO, type the correct letter and press ENTER\n",
      "If unrecognizable, type a space and press ENTER): \n",
      "\n",
      "Is this E? (Press Enter if YES.\n",
      "If NO, type the correct letter and press ENTER\n",
      "If unrecognizable, type a space and press ENTER): \n",
      "\n",
      "Is this G? (Press Enter if YES.\n",
      "If NO, type the correct letter and press ENTER\n",
      "If unrecognizable, type a space and press ENTER): \n",
      "\n",
      "Is this I? (Press Enter if YES.\n",
      "If NO, type the correct letter and press ENTER\n",
      "If unrecognizable, type a space and press ENTER): \n",
      "\n",
      "Is this K? (Press Enter if YES.\n",
      "If NO, type the correct letter and press ENTER\n",
      "If unrecognizable, type a space and press ENTER): \n",
      "\n",
      "Is this L? (Press Enter if YES.\n",
      "If NO, type the correct letter and press ENTER\n",
      "If unrecognizable, type a space and press ENTER): \n",
      "\n",
      "Is this M? (Press Enter if YES.\n",
      "If NO, type the correct letter and press ENTER\n",
      "If unrecognizable, type a space and press ENTER): \n",
      "\n",
      "Is this N? (Press Enter if YES.\n",
      "If NO, type the correct letter and press ENTER\n",
      "If unrecognizable, type a space and press ENTER): \n",
      "\n",
      "Is this O? (Press Enter if YES.\n",
      "If NO, type the correct letter and press ENTER\n",
      "If unrecognizable, type a space and press ENTER): \n",
      "\n",
      "Is this P? (Press Enter if YES.\n",
      "If NO, type the correct letter and press ENTER\n",
      "If unrecognizable, type a space and press ENTER): \n",
      "\n",
      "Is this S? (Press Enter if YES.\n",
      "If NO, type the correct letter and press ENTER\n",
      "If unrecognizable, type a space and press ENTER): \n",
      "\n",
      "Is this T? (Press Enter if YES.\n",
      "If NO, type the correct letter and press ENTER\n",
      "If unrecognizable, type a space and press ENTER): \n",
      "\n",
      "Is this U? (Press Enter if YES.\n",
      "If NO, type the correct letter and press ENTER\n",
      "If unrecognizable, type a space and press ENTER): \n",
      " \n",
      "Is this V? (Press Enter if YES.\n",
      "If NO, type the correct letter and press ENTER\n",
      "If unrecognizable, type a space and press ENTER): \n",
      "\n",
      "Is this W? (Press Enter if YES.\n",
      "If NO, type the correct letter and press ENTER\n",
      "If unrecognizable, type a space and press ENTER): \n",
      "\n",
      "Is this X? (Press Enter if YES.\n",
      "If NO, type the correct letter and press ENTER\n",
      "If unrecognizable, type a space and press ENTER): \n",
      "\n",
      "Is this Y? (Press Enter if YES.\n",
      "If NO, type the correct letter and press ENTER\n",
      "If unrecognizable, type a space and press ENTER): \n",
      "\n",
      "Is this Z? (Press Enter if YES.\n",
      "If NO, type the correct letter and press ENTER\n",
      "If unrecognizable, type a space and press ENTER): \n",
      " \n"
     ]
    }
   ],
   "source": [
    "\n",
    "for i in range(len(text)-1):\n",
    "    a = text[i]\n",
    "    x, y, w, h = int(a[1]), int(a[2]), int(a[3]), int(a[4])\n",
    "    crop = image[height-h:height-y,x:w]\n",
    "    name = \"Characters/\" + a[0].upper() + \".jpg\"\n",
    "    if a[0] in uppercase:\n",
    "        print(\"Is this \" + a[0].upper() + \"? (Press Enter if YES.\\nIf NO, type the correct letter and press ENTER\\nIf unrecognizable, type a space and press ENTER): \")\n",
    "        cv2.imshow('Image', crop)\n",
    "        cv2.waitKey(0)\n",
    "        que = input() \n",
    "        if que == \"\":\n",
    "            cv2.imwrite(name, crop)\n",
    "        elif que == \" \":\n",
    "            pass\n",
    "        else:\n",
    "            cv2.imwrite(\"Characters/\" + que.upper() + \".jpg\", crop)\n",
    "            "
   ]
  },
  {
   "cell_type": "markdown",
   "id": "419dd0c0",
   "metadata": {},
   "source": [
    "Lowercase letters"
   ]
  },
  {
   "cell_type": "code",
   "execution_count": 32,
   "id": "c3516c6b",
   "metadata": {},
   "outputs": [
    {
     "data": {
      "text/plain": [
       "-1"
      ]
     },
     "execution_count": 32,
     "metadata": {},
     "output_type": "execute_result"
    }
   ],
   "source": [
    "image = cv2.imread(\"lowercase1.jpg\")\n",
    "image = cv2.resize(image, None, fx=0.8, fy=0.8, interpolation=cv2.INTER_CUBIC)\n",
    "image = cv2.cvtColor(image, cv2.COLOR_BGR2GRAY)\n",
    "cv2.imshow('image', image)\n",
    "cv2.waitKey(0)"
   ]
  },
  {
   "cell_type": "code",
   "execution_count": 38,
   "id": "8700c8f7",
   "metadata": {},
   "outputs": [
    {
     "name": "stdout",
     "output_type": "stream",
     "text": [
      "\n"
     ]
    }
   ],
   "source": [
    "config = '--oem 3 --psm %d' % 7\n",
    "string = pytesseract.image_to_string(image, config=config, lang='eng')\n",
    "print(string)"
   ]
  },
  {
   "cell_type": "code",
   "execution_count": 22,
   "id": "41dc067e",
   "metadata": {},
   "outputs": [],
   "source": [
    "lowercase = \"abcdefghijklmnopqrstuvwxyz\""
   ]
  },
  {
   "cell_type": "code",
   "execution_count": 23,
   "id": "77de5678",
   "metadata": {},
   "outputs": [
    {
     "data": {
      "text/plain": [
       "[['d', '617', '678', '664', '733', '0'],\n",
       " ['e', '727', '666', '763', '704', '0'],\n",
       " ['r', '519', '327', '543', '360', '0'],\n",
       " ['5', '651', '317', '682', '356', '0'],\n",
       " ['+', '744', '323', '793', '415', '0'],\n",
       " []]"
      ]
     },
     "execution_count": 23,
     "metadata": {},
     "output_type": "execute_result"
    }
   ],
   "source": [
    "height, width = image.shape\n",
    "text = pytesseract.image_to_boxes(image, config = config, lang='eng').split('\\n')\n",
    "for x in range(len(text)):\n",
    "    text[x] = text[x].split()\n",
    "\n",
    "text"
   ]
  },
  {
   "cell_type": "code",
   "execution_count": 49,
   "id": "077fd973",
   "metadata": {},
   "outputs": [
    {
     "name": "stdout",
     "output_type": "stream",
     "text": [
      "Is this a? (Press Enter if YES.\n",
      "If NO, type the correct letter and press ENTER\n",
      "If unrecognizable, type a space and press ENTER): \n",
      "\n",
      "Is this b? (Press Enter if YES.\n",
      "If NO, type the correct letter and press ENTER\n",
      "If unrecognizable, type a space and press ENTER): \n",
      "\n",
      "Is this e? (Press Enter if YES.\n",
      "If NO, type the correct letter and press ENTER\n",
      "If unrecognizable, type a space and press ENTER): \n",
      "c\n",
      "Is this d? (Press Enter if YES.\n",
      "If NO, type the correct letter and press ENTER\n",
      "If unrecognizable, type a space and press ENTER): \n",
      "\n",
      "Is this e? (Press Enter if YES.\n",
      "If NO, type the correct letter and press ENTER\n",
      "If unrecognizable, type a space and press ENTER): \n",
      "\n",
      "Is this t? (Press Enter if YES.\n",
      "If NO, type the correct letter and press ENTER\n",
      "If unrecognizable, type a space and press ENTER): \n",
      "f\n",
      "Is this g? (Press Enter if YES.\n",
      "If NO, type the correct letter and press ENTER\n",
      "If unrecognizable, type a space and press ENTER): \n",
      "\n",
      "Is this h? (Press Enter if YES.\n",
      "If NO, type the correct letter and press ENTER\n",
      "If unrecognizable, type a space and press ENTER): \n",
      "\n",
      "Is this i? (Press Enter if YES.\n",
      "If NO, type the correct letter and press ENTER\n",
      "If unrecognizable, type a space and press ENTER): \n",
      "\n",
      "Is this y? (Press Enter if YES.\n",
      "If NO, type the correct letter and press ENTER\n",
      "If unrecognizable, type a space and press ENTER): \n",
      "j\n",
      "Is this k? (Press Enter if YES.\n",
      "If NO, type the correct letter and press ENTER\n",
      "If unrecognizable, type a space and press ENTER): \n",
      "\n",
      "Is this l? (Press Enter if YES.\n",
      "If NO, type the correct letter and press ENTER\n",
      "If unrecognizable, type a space and press ENTER): \n",
      "\n",
      "Is this w? (Press Enter if YES.\n",
      "If NO, type the correct letter and press ENTER\n",
      "If unrecognizable, type a space and press ENTER): \n",
      " \n",
      "Is this r? (Press Enter if YES.\n",
      "If NO, type the correct letter and press ENTER\n",
      "If unrecognizable, type a space and press ENTER): \n",
      "m\n",
      "Is this r? (Press Enter if YES.\n",
      "If NO, type the correct letter and press ENTER\n",
      "If unrecognizable, type a space and press ENTER): \n",
      "n\n",
      "Is this p? (Press Enter if YES.\n",
      "If NO, type the correct letter and press ENTER\n",
      "If unrecognizable, type a space and press ENTER): \n",
      " \n",
      "Is this y? (Press Enter if YES.\n",
      "If NO, type the correct letter and press ENTER\n",
      "If unrecognizable, type a space and press ENTER): \n",
      "q\n",
      "Is this r? (Press Enter if YES.\n",
      "If NO, type the correct letter and press ENTER\n",
      "If unrecognizable, type a space and press ENTER): \n",
      "\n",
      "Is this t? (Press Enter if YES.\n",
      "If NO, type the correct letter and press ENTER\n",
      "If unrecognizable, type a space and press ENTER): \n",
      "\n",
      "Is this w? (Press Enter if YES.\n",
      "If NO, type the correct letter and press ENTER\n",
      "If unrecognizable, type a space and press ENTER): \n",
      "u\n",
      "Is this v? (Press Enter if YES.\n",
      "If NO, type the correct letter and press ENTER\n",
      "If unrecognizable, type a space and press ENTER): \n",
      " \n",
      "Is this v? (Press Enter if YES.\n",
      "If NO, type the correct letter and press ENTER\n",
      "If unrecognizable, type a space and press ENTER): \n",
      "\n",
      "Is this e? (Press Enter if YES.\n",
      "If NO, type the correct letter and press ENTER\n",
      "If unrecognizable, type a space and press ENTER): \n",
      "w\n",
      "Is this x? (Press Enter if YES.\n",
      "If NO, type the correct letter and press ENTER\n",
      "If unrecognizable, type a space and press ENTER): \n",
      "\n",
      "Is this w? (Press Enter if YES.\n",
      "If NO, type the correct letter and press ENTER\n",
      "If unrecognizable, type a space and press ENTER): \n",
      "y\n",
      "Is this y? (Press Enter if YES.\n",
      "If NO, type the correct letter and press ENTER\n",
      "If unrecognizable, type a space and press ENTER): \n",
      " \n"
     ]
    }
   ],
   "source": [
    "\n",
    "for i in range(len(text)-1):\n",
    "    a = text[i]\n",
    "    x, y, w, h = int(a[1]), int(a[2]), int(a[3]), int(a[4])\n",
    "    crop = image[height-h:height-y,x:w]\n",
    "    name = \"Characters/\" + a[0] + \"_lower.jpg\"\n",
    "    if a[0] in lowercase:\n",
    "        print(\"Is this \" + a[0] + \"? (Press Enter if YES.\\nIf NO, type the correct letter and press ENTER\\nIf unrecognizable, type a space and press ENTER): \")\n",
    "        cv2.imshow('Image', crop)\n",
    "        cv2.waitKey(0)\n",
    "        que = input() \n",
    "        if que == \"\":\n",
    "            cv2.imwrite(name, crop)\n",
    "        elif que == \" \":\n",
    "            pass\n",
    "        else:\n",
    "            cv2.imwrite(\"Characters/\" + que + \"_lower.jpg\", crop)"
   ]
  },
  {
   "cell_type": "markdown",
   "id": "73526dfb",
   "metadata": {},
   "source": [
    "Numbers"
   ]
  },
  {
   "cell_type": "code",
   "execution_count": 90,
   "id": "c5e43de6",
   "metadata": {},
   "outputs": [
    {
     "data": {
      "text/plain": [
       "-1"
      ]
     },
     "execution_count": 90,
     "metadata": {},
     "output_type": "execute_result"
    }
   ],
   "source": [
    "image = cv2.imread(\"numbers1.jpg\")\n",
    "image = cv2.resize(image, None, fx=0.7, fy=0.7, interpolation=cv2.INTER_CUBIC)\n",
    "image = cv2.cvtColor(image, cv2.COLOR_BGR2GRAY)\n",
    "cv2.imshow('image', image)\n",
    "cv2.waitKey(0)"
   ]
  },
  {
   "cell_type": "code",
   "execution_count": 91,
   "id": "1bb0ba23",
   "metadata": {},
   "outputs": [
    {
     "name": "stdout",
     "output_type": "stream",
     "text": [
      "1\n",
      "\n",
      "2\n",
      "\n",
      "3\n",
      "\n",
      "4\n",
      "\n",
      "5\n",
      "\n",
      "6\n",
      "\n",
      "4\n",
      "\n",
      "8\n",
      "\n",
      "5\n",
      "\n"
     ]
    }
   ],
   "source": [
    "config = '--psm 11 --oem 3 -c tessedit_char_whitelist=0123456789' \n",
    "string = pytesseract.image_to_string(image, config=config, lang='eng')\n",
    "print(string)"
   ]
  },
  {
   "cell_type": "code",
   "execution_count": 92,
   "id": "0d72ef0a",
   "metadata": {},
   "outputs": [],
   "source": [
    "numbers = \"0123456789\""
   ]
  },
  {
   "cell_type": "code",
   "execution_count": 93,
   "id": "7812de48",
   "metadata": {},
   "outputs": [],
   "source": [
    "height, width = image.shape\n",
    "text = pytesseract.image_to_boxes(image, config = config, lang='eng').split('\\n')\n",
    "for x in range(len(text)):\n",
    "    text[x] = text[x].split()\n",
    "\n",
    "#text"
   ]
  },
  {
   "cell_type": "code",
   "execution_count": 94,
   "id": "c7ae934f",
   "metadata": {},
   "outputs": [
    {
     "name": "stdout",
     "output_type": "stream",
     "text": [
      "Is this 1? (Press Enter if YES.\n",
      "If NO, type the correct letter and press ENTER\n",
      "If unrecognizable, type a space and press ENTER): \n",
      "\n",
      "Is this 2? (Press Enter if YES.\n",
      "If NO, type the correct letter and press ENTER\n",
      "If unrecognizable, type a space and press ENTER): \n",
      "\n",
      "Is this 3? (Press Enter if YES.\n",
      "If NO, type the correct letter and press ENTER\n",
      "If unrecognizable, type a space and press ENTER): \n",
      "\n",
      "Is this 4? (Press Enter if YES.\n",
      "If NO, type the correct letter and press ENTER\n",
      "If unrecognizable, type a space and press ENTER): \n",
      "\n",
      "Is this 5? (Press Enter if YES.\n",
      "If NO, type the correct letter and press ENTER\n",
      "If unrecognizable, type a space and press ENTER): \n",
      "\n",
      "Is this 6? (Press Enter if YES.\n",
      "If NO, type the correct letter and press ENTER\n",
      "If unrecognizable, type a space and press ENTER): \n",
      "\n",
      "Is this 4? (Press Enter if YES.\n",
      "If NO, type the correct letter and press ENTER\n",
      "If unrecognizable, type a space and press ENTER): \n",
      "7\n",
      "Is this 8? (Press Enter if YES.\n",
      "If NO, type the correct letter and press ENTER\n",
      "If unrecognizable, type a space and press ENTER): \n",
      "\n",
      "Is this 5? (Press Enter if YES.\n",
      "If NO, type the correct letter and press ENTER\n",
      "If unrecognizable, type a space and press ENTER): \n",
      "9\n"
     ]
    }
   ],
   "source": [
    "for i in range(len(text)-1):\n",
    "    a = text[i]\n",
    "    x, y, w, h = int(a[1]), int(a[2]), int(a[3]), int(a[4])\n",
    "    crop = image[height-h:height-y,x:w]\n",
    "    name = \"Characters/\" + a[0] + \".jpg\"\n",
    "    if a[0] in numbers:\n",
    "        print(\"Is this \" + a[0] + \"? (Press Enter if YES.\\nIf NO, type the correct letter and press ENTER\\nIf unrecognizable, type a space and press ENTER): \")\n",
    "        cv2.imshow('Image', crop)\n",
    "        cv2.waitKey(0)\n",
    "        que = input() \n",
    "        if que == \"\":\n",
    "            cv2.imwrite(name, crop)\n",
    "        elif que == \" \":\n",
    "            pass\n",
    "        else:\n",
    "            cv2.imwrite(\"Characters/\" + que + \".jpg\", crop)"
   ]
  },
  {
   "cell_type": "code",
   "execution_count": null,
   "id": "55ea8f8a",
   "metadata": {},
   "outputs": [],
   "source": []
  }
 ],
 "metadata": {
  "kernelspec": {
   "display_name": "Python 3 (ipykernel)",
   "language": "python",
   "name": "python3"
  },
  "language_info": {
   "codemirror_mode": {
    "name": "ipython",
    "version": 3
   },
   "file_extension": ".py",
   "mimetype": "text/x-python",
   "name": "python",
   "nbconvert_exporter": "python",
   "pygments_lexer": "ipython3",
   "version": "3.9.6"
  }
 },
 "nbformat": 4,
 "nbformat_minor": 5
}
