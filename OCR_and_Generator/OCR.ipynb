{
 "cells": [
  {
   "cell_type": "code",
   "execution_count": 1,
   "id": "c869e1bc",
   "metadata": {},
   "outputs": [],
   "source": [
    "import pytesseract\n",
    "import cv2\n",
    "import matplotlib.pyplot as plt\n",
    "from PIL import Image\n",
    "import os"
   ]
  },
  {
   "cell_type": "code",
   "execution_count": 2,
   "id": "be302040",
   "metadata": {},
   "outputs": [],
   "source": [
    "pytesseract.pytesseract.tesseract_cmd = r'C:\\Users\\Lenovo\\AppData\\Local\\Programs\\Tesseract-OCR/tesseract.exe'"
   ]
  },
  {
   "cell_type": "code",
   "execution_count": 25,
   "id": "795f7c95",
   "metadata": {},
   "outputs": [
    {
     "data": {
      "text/plain": [
       "-1"
      ]
     },
     "execution_count": 25,
     "metadata": {},
     "output_type": "execute_result"
    }
   ],
   "source": [
    "image = cv2.imread(\"test9.jpg\")\n",
    "image = cv2.resize(image, None, fx=2, fy=2, interpolation=cv2.INTER_CUBIC)\n",
    "image = cv2.cvtColor(image, cv2.COLOR_BGR2GRAY)\n",
    "cv2.imshow('image', image)\n",
    "cv2.waitKey(0)"
   ]
  },
  {
   "cell_type": "code",
   "execution_count": 26,
   "id": "086de9a1",
   "metadata": {},
   "outputs": [
    {
     "name": "stdout",
     "output_type": "stream",
     "text": [
      "abe det ghiy\n",
      "\n",
      "k\n",
      "\n",
      "l\n",
      "\n",
      "wr\n",
      "\n",
      "Yr. O\n",
      "\n",
      "Pp yr\n",
      "\n",
      "S t wv\n",
      "\n",
      "ve x wy 4\n",
      "\n"
     ]
    }
   ],
   "source": [
    "config = '--oem 3 --psm %d' % 11\n",
    "string = pytesseract.image_to_string(image, config=config, lang='eng')\n",
    "print(string)"
   ]
  },
  {
   "cell_type": "code",
   "execution_count": 27,
   "id": "e7a1bd0a",
   "metadata": {},
   "outputs": [
    {
     "data": {
      "text/plain": [
       "[['a', '82', '623', '160', '684', '0'],\n",
       " ['b', '277', '632', '334', '725', '0'],\n",
       " ['e', '457', '638', '513', '681', '0'],\n",
       " ['d', '648', '634', '722', '716', '0'],\n",
       " ['e', '844', '634', '881', '678', '0'],\n",
       " ['t', '969', '583', '1037', '737', '0'],\n",
       " ['g', '1166', '596', '1235', '691', '0'],\n",
       " ['h', '1334', '646', '1403', '736', '0'],\n",
       " ['i', '1500', '645', '1514', '684', '0'],\n",
       " ['y', '1592', '561', '1651', '679', '0'],\n",
       " ['k', '82', '359', '136', '449', '0'],\n",
       " ['l', '271', '364', '303', '446', '0'],\n",
       " ['w', '435', '365', '466', '404', '0'],\n",
       " ['r', '435', '365', '519', '404', '0'],\n",
       " ['Y', '637', '372', '665', '406', '0'],\n",
       " ['r', '637', '372', '698', '406', '0'],\n",
       " ['.', '680', '372', '698', '406', '0'],\n",
       " ['O', '801', '372', '843', '421', '0'],\n",
       " ['P', '959', '334', '993', '418', '0'],\n",
       " ['p', '1007', '297', '1039', '422', '0'],\n",
       " ['y', '1085', '330', '1140', '415', '0'],\n",
       " ['r', '1226', '380', '1265', '416', '0'],\n",
       " ['S', '1381', '379', '1410', '421', '0'],\n",
       " ['t', '1500', '385', '1548', '452', '0'],\n",
       " ['w', '1630', '388', '1682', '424', '0'],\n",
       " ['v', '1659', '388', '1682', '424', '0'],\n",
       " ['v', '70', '158', '118', '201', '0'],\n",
       " ['e', '230', '163', '291', '201', '0'],\n",
       " ['x', '414', '159', '465', '198', '0'],\n",
       " ['w', '567', '120', '635', '206', '0'],\n",
       " ['y', '601', '116', '636', '218', '0'],\n",
       " ['4', '714', '176', '763', '214', '0'],\n",
       " []]"
      ]
     },
     "execution_count": 27,
     "metadata": {},
     "output_type": "execute_result"
    }
   ],
   "source": [
    "height, width = image.shape\n",
    "text = pytesseract.image_to_boxes(image, config = config, lang='eng').split('\\n')\n",
    "for x in range(len(text)):\n",
    "    text[x] = text[x].split()\n",
    "\n",
    "text"
   ]
  },
  {
   "cell_type": "code",
   "execution_count": 28,
   "id": "7cd3655b",
   "metadata": {},
   "outputs": [],
   "source": [
    "data = pytesseract.image_to_data(image, config = config, lang='eng', output_type=pytesseract.Output.DICT)"
   ]
  },
  {
   "cell_type": "code",
   "execution_count": 29,
   "id": "1c94e277",
   "metadata": {},
   "outputs": [],
   "source": [
    "#cropping and storing photos\n",
    "conf = [0 for i in range(len(text))]\n",
    "\n",
    "for i in range(len(text)-1):\n",
    "    a = text[i]\n",
    "    x, y, w, h = int(a[1]), int(a[2]), int(a[3]), int(a[4])\n",
    "    crop = image[height-h:height-y,x:w]\n",
    "    name = \"Characters/\" + a[0] + \".jpg\"\n",
    "    if os.path.exists(name):\n",
    "        if (data[\"conf\"][i] > conf[i]):\n",
    "            conf[i] = data[\"conf\"][i]\n",
    "            cv2.imwrite(\"Characters/\" + a[0] + \".jpg\", crop)\n",
    "        '''\n",
    "        print(a[0])\n",
    "        cv2.imshow('Confirmation', crop)\n",
    "        cv2.waitKey(0)\n",
    "        que = input(\"Accept? (Y/N): \")\n",
    "        if que.lower() == \"y\":\n",
    "            cv2.imwrite(\"Characters/\" + a[0] + \".jpg\", crop)\n",
    "        else:\n",
    "            que = input(\"What is it? (Leave blank if unrecognizable): \")\n",
    "            if que != \"\":\n",
    "                cv2.imwrite(\"Characters/\" + que + \".jpg\", crop)\n",
    "        '''\n",
    "    else:\n",
    "        cv2.imwrite(\"Characters/\" + a[0] + \".jpg\", crop)\n",
    "    \n",
    "\n",
    "#cv2.line(image, (x,height-h), (w,height-y),(50,50,255),2)\n",
    "#cv2.imshow('img',image)\n",
    "#cv2.waitKey(0)"
   ]
  },
  {
   "cell_type": "code",
   "execution_count": null,
   "id": "5412257e",
   "metadata": {},
   "outputs": [],
   "source": []
  }
 ],
 "metadata": {
  "kernelspec": {
   "display_name": "Python 3 (ipykernel)",
   "language": "python",
   "name": "python3"
  },
  "language_info": {
   "codemirror_mode": {
    "name": "ipython",
    "version": 3
   },
   "file_extension": ".py",
   "mimetype": "text/x-python",
   "name": "python",
   "nbconvert_exporter": "python",
   "pygments_lexer": "ipython3",
   "version": "3.9.6"
  }
 },
 "nbformat": 4,
 "nbformat_minor": 5
}
